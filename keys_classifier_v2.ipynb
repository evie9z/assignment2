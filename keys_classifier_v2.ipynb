{
 "cells": [
  {
   "cell_type": "code",
   "execution_count": null,
   "metadata": {
    "collapsed": true
   },
   "outputs": [],
   "source": [
    "import numpy as np\n",
    "import re\n",
    "from numpy import*\n",
    "from sklearn import svm, metrics\n",
    "from skimage import io, feature, filters, exposure, color\n",
    "import matplotlib.pyplot as plt\n",
    "\n",
    "\n",
    "class ImageClassifier:\n",
    "\n",
    "    def __init__(self):\n",
    "        self.classifer = None\n",
    "\n",
    "    def imread_convert(self, f):\n",
    "        return io.imread(f).astype(np.uint8)\n",
    "\n",
    "    def load_data_from_folder(self, dir):\n",
    "        # read all images into an image collection\n",
    "        ic = io.ImageCollection(dir + \"*.bmp\", load_func=self.imread_convert)\n",
    "\n",
    "        # create one large array of image data\n",
    "        data = io.concatenate_images(ic)\n",
    "\n",
    "        # extract labels from image names\n",
    "        labels = np.array(ic.files)\n",
    "        for i, f in enumerate(labels):\n",
    "            m = re.search(\"_\", f)\n",
    "            labels[i] = f[len(dir):m.start()]\n",
    "\n",
    "        return (data, labels)\n",
    "\n",
    "    def extract_image_features(self, data):\n",
    "        # Please do not modify the header above\n",
    "        # TODO: extract feature vector from image data\n",
    "        feature_1 = []\n",
    "        for image in data:\n",
    "            image_gray = color.rgb2gray(image)\n",
    "            image_blurring = filters.gaussian(image_gray, sigma = 0.5)\n",
    "            a,daisy_image = feature.daisy(image_blurring, step=180, radius=58, rings=2, histograms=6, orientations=8, visualize=True)\n",
    "            nsample, nx, ny = daisy_image.shape\n",
    "            feature_1.append(daisy_image.reshape((nsample,nx*ny)))\n",
    "        # Please do not modify the return type below\n",
    "        feature_data = np.array(feature_1)\n",
    "        return(feature_data)\n",
    "\n",
    "    def train_classifier(self, train_data, train_labels):\n",
    "        # Please do not modify the header above\n",
    "\n",
    "        # TODO: train model and save the trained model to self.classifier\n",
    "        self.clf = svm.LinearSVC()\n",
    "        self.clf.fit(train_data[:], train_labels[:])\n",
    "\n",
    "        pass\n",
    "\n",
    "    def predict_labels(self, data):\n",
    "        # print('before-predict,', data.shape)\n",
    "        # Please do not modify the header\n",
    "\n",
    "        # TODO: predict labels of test data using trained model in self.classifier\n",
    "        # the code below expects output to be stored in predicted_labels\n",
    "        predicted_labels = self.clf.predict(data[:])\n",
    "        print(predicted_labels.shape)\n",
    "        # Please do not modify the return type below\n",
    "        return predicted_labels"
   ]
  }
 ],
 "metadata": {
  "kernelspec": {
   "display_name": "Python 2",
   "language": "python",
   "name": "python2"
  },
  "language_info": {
   "codemirror_mode": {
    "name": "ipython",
    "version": 2
   },
   "file_extension": ".py",
   "mimetype": "text/x-python",
   "name": "python",
   "nbconvert_exporter": "python",
   "pygments_lexer": "ipython2",
   "version": "2.7.6"
  }
 },
 "nbformat": 4,
 "nbformat_minor": 0
}
